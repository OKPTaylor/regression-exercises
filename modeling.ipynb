{
 "cells": [
  {
   "cell_type": "code",
   "execution_count": 122,
   "metadata": {},
   "outputs": [],
   "source": [
    "import gen_wrangle as wrg\n",
    "import scipy.stats as stats\n",
    "import pandas as pd\n",
    "import os\n",
    "import numpy as np\n",
    "\n",
    "# Data viz:\n",
    "import matplotlib.pyplot as plt\n",
    "import seaborn as sns\n",
    "\n",
    "# Sklearn stuff:\n",
    "from sklearn.model_selection import train_test_split\n",
    "from sklearn.neighbors import KNeighborsClassifier\n",
    "from sklearn.metrics import classification_report, confusion_matrix, plot_confusion_matrix\n",
    "from sklearn.neighbors import KNeighborsClassifier\n",
    "from sklearn.tree import DecisionTreeClassifier\n",
    "from sklearn.ensemble import RandomForestClassifier\n",
    "from sklearn.tree import plot_tree\n",
    "from sklearn.linear_model import LogisticRegression\n",
    "from sklearn.preprocessing import MinMaxScaler\n",
    "from sklearn.linear_model import LinearRegression\n",
    "from sklearn.feature_selection import RFE, SelectKBest, f_regression\n",
    "from sklearn.metrics import mean_squared_error\n",
    "from sklearn.metrics import r2_score\n",
    "from sklearn.feature_selection import RFE\n",
    "from sklearn.linear_model import LassoLars\n",
    "from sklearn.preprocessing import PolynomialFeatures\n",
    "from sklearn.linear_model import TweedieRegressor\n",
    "\n",
    "\n",
    "\n",
    "\n",
    "import env"
   ]
  },
  {
   "cell_type": "code",
   "execution_count": 123,
   "metadata": {},
   "outputs": [],
   "source": [
    "from pydataset import data\n",
    "tips = data(\"tips\")\n"
   ]
  },
  {
   "cell_type": "code",
   "execution_count": 124,
   "metadata": {},
   "outputs": [],
   "source": [
    "tips[\"price_per_person\"] = tips['total_bill'] / tips[\"size\"]"
   ]
  },
  {
   "cell_type": "code",
   "execution_count": 125,
   "metadata": {},
   "outputs": [],
   "source": [
    "tips_dummy=pd.get_dummies(tips[[\"day\", \"time\"]], drop_first=True)"
   ]
  },
  {
   "cell_type": "code",
   "execution_count": 126,
   "metadata": {},
   "outputs": [],
   "source": [
    "tips = pd.concat([tips, tips_dummy], axis=1)"
   ]
  },
  {
   "cell_type": "code",
   "execution_count": 127,
   "metadata": {},
   "outputs": [],
   "source": [
    "tips[\"smoker_encoded\"] = tips.smoker.map({\"No\":0, \"Yes\":1})\n",
    "tips[\"sex_encoded\"] = tips.sex.map({\"Male\":1, \"Female\":0}) "
   ]
  },
  {
   "cell_type": "code",
   "execution_count": 128,
   "metadata": {},
   "outputs": [],
   "source": [
    "train_tips, validate_tips, test_tips = wrg.split_function_cont_target(tips)"
   ]
  },
  {
   "cell_type": "code",
   "execution_count": 129,
   "metadata": {},
   "outputs": [],
   "source": [
    "x_train, x_validate, x_test = train_tips[['total_bill', 'size', \"day_Sat\" , \"day_Sun\", \"day_Thur\" , \"time_Lunch\", \"smoker_encoded\", \"sex_encoded\" , \"price_per_person\"]], validate_tips[['total_bill', 'size', \"day_Sat\" , \"day_Sun\", \"day_Thur\" , \"time_Lunch\", \"smoker_encoded\", \"sex_encoded\" , \"price_per_person\"]], test_tips[['total_bill', 'size', \"day_Sat\" , \"day_Sun\", \"day_Thur\" , \"time_Lunch\", \"smoker_encoded\", \"sex_encoded\" , \"price_per_person\"]]\n",
    "\n",
    "y_train, y_validate, y_test = train_tips.tip, validate_tips.tip, test_tips.tip "
   ]
  },
  {
   "cell_type": "code",
   "execution_count": 130,
   "metadata": {},
   "outputs": [],
   "source": [
    "def scale_data(train, validate, to_scale, test):\n",
    "    #make copies for scaling\n",
    "    train_scaled = train.copy()\n",
    "    validate_scaled = validate.copy()\n",
    "    test_scaled = test.copy()\n",
    "\n",
    "    #this scales stuff \n",
    "    #make the thing\n",
    "    scaler = MinMaxScaler()\n",
    "\n",
    "    #fit the thing\n",
    "    scaler.fit(train[to_scale])\n",
    "\n",
    "    #use the thing\n",
    "    train_scaled[to_scale] = scaler.transform(train[to_scale])\n",
    "    validate_scaled[to_scale] = scaler.transform(validate[to_scale])\n",
    "    test_scaled[to_scale] = scaler.transform(test[to_scale])\n",
    "    \n",
    "    return train_scaled, validate_scaled, test_scaled\n",
    "\n",
    "#add in the test stuff. No modeling for this one so no test added "
   ]
  },
  {
   "cell_type": "code",
   "execution_count": 131,
   "metadata": {},
   "outputs": [],
   "source": [
    "to_scale=x_train.columns.tolist()"
   ]
  },
  {
   "cell_type": "code",
   "execution_count": 132,
   "metadata": {},
   "outputs": [],
   "source": [
    "x_train_scaled, x_validate_scaled, x_test_scaled  = scale_data(x_train, x_validate,to_scale, x_test)"
   ]
  },
  {
   "cell_type": "code",
   "execution_count": 133,
   "metadata": {},
   "outputs": [
    {
     "data": {
      "text/plain": [
       "<function matplotlib.pyplot.show(close=None, block=None)>"
      ]
     },
     "execution_count": 133,
     "metadata": {},
     "output_type": "execute_result"
    },
    {
     "data": {
      "image/png": "[encoded data removed]",
      "text/plain": [
       "<Figure size 432x288 with 1 Axes>"
      ]
     },
     "metadata": {
      "needs_background": "light"
     },
     "output_type": "display_data"
    }
   ],
   "source": [
    "sns.histplot(y_train)\n",
    "plt.show"
   ]
  },
  {
   "cell_type": "code",
   "execution_count": 134,
   "metadata": {},
   "outputs": [],
   "source": [
    "baseline = y_train.mean()"
   ]
  },
  {
   "cell_type": "code",
   "execution_count": 135,
   "metadata": {},
   "outputs": [
    {
     "data": {
      "text/plain": [
       "2.9810958904109603"
      ]
     },
     "execution_count": 135,
     "metadata": {},
     "output_type": "execute_result"
    }
   ],
   "source": [
    "baseline"
   ]
  },
  {
   "cell_type": "code",
   "execution_count": 136,
   "metadata": {},
   "outputs": [],
   "source": [
    "#base line is 2.98"
   ]
  },
  {
   "cell_type": "code",
   "execution_count": 137,
   "metadata": {},
   "outputs": [],
   "source": [
    "def metrics_reg(y, yhat):\n",
    "    \"\"\"\n",
    "    send in y_true, y_pred & returns RMSE, R2\n",
    "    \"\"\"\n",
    "    rmse = mean_squared_error(y, yhat, squared=False)\n",
    "    r2 = r2_score(y, yhat)\n",
    "    return rmse, r2"
   ]
  },
  {
   "cell_type": "code",
   "execution_count": 138,
   "metadata": {},
   "outputs": [
    {
     "data": {
      "text/plain": [
       "array([2.98109589, 2.98109589, 2.98109589, 2.98109589, 2.98109589])"
      ]
     },
     "execution_count": 138,
     "metadata": {},
     "output_type": "execute_result"
    }
   ],
   "source": [
    "#make an array to send into my mean_square_error function\n",
    "baseline_array = np.repeat(baseline, len(train_tips))\n",
    "baseline_array[:5]"
   ]
  },
  {
   "cell_type": "code",
   "execution_count": 139,
   "metadata": {},
   "outputs": [],
   "source": [
    "rmse, r2 = metrics_reg(y_train, baseline_array)"
   ]
  },
  {
   "cell_type": "code",
   "execution_count": 140,
   "metadata": {},
   "outputs": [
    {
     "data": {
      "text/html": [
       "<div>\n",
       "<style scoped>\n",
       "    .dataframe tbody tr th:only-of-type {\n",
       "        vertical-align: middle;\n",
       "    }\n",
       "\n",
       "    .dataframe tbody tr th {\n",
       "        vertical-align: top;\n",
       "    }\n",
       "\n",
       "    .dataframe thead th {\n",
       "        text-align: right;\n",
       "    }\n",
       "</style>\n",
       "<table border=\"1\" class=\"dataframe\">\n",
       "  <thead>\n",
       "    <tr style=\"text-align: right;\">\n",
       "      <th></th>\n",
       "      <th>model</th>\n",
       "      <th>rmse</th>\n",
       "      <th>r2</th>\n",
       "    </tr>\n",
       "  </thead>\n",
       "  <tbody>\n",
       "    <tr>\n",
       "      <th>0</th>\n",
       "      <td>baseline</td>\n",
       "      <td>1.451105</td>\n",
       "      <td>2.220446e-16</td>\n",
       "    </tr>\n",
       "  </tbody>\n",
       "</table>\n",
       "</div>"
      ],
      "text/plain": [
       "      model      rmse            r2\n",
       "0  baseline  1.451105  2.220446e-16"
      ]
     },
     "execution_count": 140,
     "metadata": {},
     "output_type": "execute_result"
    }
   ],
   "source": [
    "metrics_df = pd.DataFrame(data=[\n",
    "    {\n",
    "        'model':'baseline',\n",
    "        'rmse':rmse,\n",
    "        'r2':r2\n",
    "    }\n",
    "    \n",
    "])\n",
    "metrics_df"
   ]
  },
  {
   "cell_type": "code",
   "execution_count": 141,
   "metadata": {},
   "outputs": [],
   "source": [
    "#Ordinary Least Squares (OLS)"
   ]
  },
  {
   "cell_type": "code",
   "execution_count": 142,
   "metadata": {},
   "outputs": [],
   "source": [
    "#select to top feature for OLS_1"
   ]
  },
  {
   "cell_type": "code",
   "execution_count": 143,
   "metadata": {},
   "outputs": [
    {
     "data": {
      "text/plain": [
       "SelectKBest(k=2, score_func=<function f_regression at 0x7f84f270ad30>)"
      ]
     },
     "execution_count": 143,
     "metadata": {},
     "output_type": "execute_result"
    }
   ],
   "source": [
    "#kbest\n",
    "kbest = SelectKBest(f_regression, k=2) #makes the k best using f_regression model\n",
    "kbest.fit(x_train_scaled, y_train) #fits it to x_train_scaled and y_train "
   ]
  },
  {
   "cell_type": "code",
   "execution_count": 144,
   "metadata": {},
   "outputs": [],
   "source": [
    "kbest_results = pd.DataFrame(dict(p_value=kbest.pvalues_, f_score=kbest.scores_), index=x_train_scaled.columns) \n",
    "#gets the p values and f score and saves to a dict then saves them to a DF with the index being the x_train column"
   ]
  },
  {
   "cell_type": "code",
   "execution_count": 145,
   "metadata": {},
   "outputs": [
    {
     "data": {
      "text/html": [
       "<div>\n",
       "<style scoped>\n",
       "    .dataframe tbody tr th:only-of-type {\n",
       "        vertical-align: middle;\n",
       "    }\n",
       "\n",
       "    .dataframe tbody tr th {\n",
       "        vertical-align: top;\n",
       "    }\n",
       "\n",
       "    .dataframe thead th {\n",
       "        text-align: right;\n",
       "    }\n",
       "</style>\n",
       "<table border=\"1\" class=\"dataframe\">\n",
       "  <thead>\n",
       "    <tr style=\"text-align: right;\">\n",
       "      <th></th>\n",
       "      <th>p_value</th>\n",
       "      <th>f_score</th>\n",
       "    </tr>\n",
       "  </thead>\n",
       "  <tbody>\n",
       "    <tr>\n",
       "      <th>total_bill</th>\n",
       "      <td>1.305620e-19</td>\n",
       "      <td>111.115028</td>\n",
       "    </tr>\n",
       "    <tr>\n",
       "      <th>size</th>\n",
       "      <td>3.669012e-12</td>\n",
       "      <td>57.607134</td>\n",
       "    </tr>\n",
       "    <tr>\n",
       "      <th>price_per_person</th>\n",
       "      <td>2.857090e-04</td>\n",
       "      <td>13.831878</td>\n",
       "    </tr>\n",
       "    <tr>\n",
       "      <th>day_Sun</th>\n",
       "      <td>7.197303e-02</td>\n",
       "      <td>3.285602</td>\n",
       "    </tr>\n",
       "    <tr>\n",
       "      <th>time_Lunch</th>\n",
       "      <td>1.411336e-01</td>\n",
       "      <td>2.189558</td>\n",
       "    </tr>\n",
       "    <tr>\n",
       "      <th>day_Thur</th>\n",
       "      <td>3.241839e-01</td>\n",
       "      <td>0.978682</td>\n",
       "    </tr>\n",
       "    <tr>\n",
       "      <th>sex_encoded</th>\n",
       "      <td>4.413546e-01</td>\n",
       "      <td>0.596049</td>\n",
       "    </tr>\n",
       "    <tr>\n",
       "      <th>smoker_encoded</th>\n",
       "      <td>7.716981e-01</td>\n",
       "      <td>0.084507</td>\n",
       "    </tr>\n",
       "    <tr>\n",
       "      <th>day_Sat</th>\n",
       "      <td>8.745567e-01</td>\n",
       "      <td>0.025013</td>\n",
       "    </tr>\n",
       "  </tbody>\n",
       "</table>\n",
       "</div>"
      ],
      "text/plain": [
       "                       p_value     f_score\n",
       "total_bill        1.305620e-19  111.115028\n",
       "size              3.669012e-12   57.607134\n",
       "price_per_person  2.857090e-04   13.831878\n",
       "day_Sun           7.197303e-02    3.285602\n",
       "time_Lunch        1.411336e-01    2.189558\n",
       "day_Thur          3.241839e-01    0.978682\n",
       "sex_encoded       4.413546e-01    0.596049\n",
       "smoker_encoded    7.716981e-01    0.084507\n",
       "day_Sat           8.745567e-01    0.025013"
      ]
     },
     "execution_count": 145,
     "metadata": {},
     "output_type": "execute_result"
    }
   ],
   "source": [
    "kbest_results.sort_values(by=['f_score'], ascending=False) \n"
   ]
  },
  {
   "cell_type": "code",
   "execution_count": 146,
   "metadata": {},
   "outputs": [],
   "source": [
    "#recursive feature elimination "
   ]
  },
  {
   "cell_type": "code",
   "execution_count": 147,
   "metadata": {},
   "outputs": [],
   "source": [
    "#set the model to linear regres\n",
    "lr1 = LinearRegression()\n",
    "\n",
    "# make it\n",
    "rfe = RFE(lr1, n_features_to_select=1)\n",
    "\n",
    "# fit it to the right things\n",
    "rfe.fit(x_train_scaled, y_train)\n",
    "\n",
    "x_train_rfe = rfe.transform(x_train_scaled)\n",
    "\n",
    "x_validate_rfe = rfe.transform(x_validate_scaled)\n",
    "\n",
    "x_test_rfe = rfe.transform(x_test_scaled)"
   ]
  },
  {
   "cell_type": "code",
   "execution_count": 148,
   "metadata": {},
   "outputs": [
    {
     "data": {
      "text/html": [
       "<div>\n",
       "<style scoped>\n",
       "    .dataframe tbody tr th:only-of-type {\n",
       "        vertical-align: middle;\n",
       "    }\n",
       "\n",
       "    .dataframe tbody tr th {\n",
       "        vertical-align: top;\n",
       "    }\n",
       "\n",
       "    .dataframe thead th {\n",
       "        text-align: right;\n",
       "    }\n",
       "</style>\n",
       "<table border=\"1\" class=\"dataframe\">\n",
       "  <thead>\n",
       "    <tr style=\"text-align: right;\">\n",
       "      <th></th>\n",
       "      <th>rfe_ranking</th>\n",
       "    </tr>\n",
       "  </thead>\n",
       "  <tbody>\n",
       "    <tr>\n",
       "      <th>total_bill</th>\n",
       "      <td>1</td>\n",
       "    </tr>\n",
       "    <tr>\n",
       "      <th>price_per_person</th>\n",
       "      <td>2</td>\n",
       "    </tr>\n",
       "    <tr>\n",
       "      <th>day_Sat</th>\n",
       "      <td>3</td>\n",
       "    </tr>\n",
       "    <tr>\n",
       "      <th>day_Thur</th>\n",
       "      <td>4</td>\n",
       "    </tr>\n",
       "    <tr>\n",
       "      <th>sex_encoded</th>\n",
       "      <td>5</td>\n",
       "    </tr>\n",
       "    <tr>\n",
       "      <th>time_Lunch</th>\n",
       "      <td>6</td>\n",
       "    </tr>\n",
       "    <tr>\n",
       "      <th>size</th>\n",
       "      <td>7</td>\n",
       "    </tr>\n",
       "    <tr>\n",
       "      <th>smoker_encoded</th>\n",
       "      <td>8</td>\n",
       "    </tr>\n",
       "    <tr>\n",
       "      <th>day_Sun</th>\n",
       "      <td>9</td>\n",
       "    </tr>\n",
       "  </tbody>\n",
       "</table>\n",
       "</div>"
      ],
      "text/plain": [
       "                  rfe_ranking\n",
       "total_bill                  1\n",
       "price_per_person            2\n",
       "day_Sat                     3\n",
       "day_Thur                    4\n",
       "sex_encoded                 5\n",
       "time_Lunch                  6\n",
       "size                        7\n",
       "smoker_encoded              8\n",
       "day_Sun                     9"
      ]
     },
     "execution_count": 148,
     "metadata": {},
     "output_type": "execute_result"
    }
   ],
   "source": [
    "#create a DF for the output\n",
    "rfe_ranking = pd.DataFrame({'rfe_ranking': rfe.ranking_}, index=x_train_scaled.columns)\n",
    "rfe_ranking.sort_values(by=['rfe_ranking'], ascending=True)"
   ]
  },
  {
   "cell_type": "code",
   "execution_count": 149,
   "metadata": {},
   "outputs": [],
   "source": [
    "#build model\n",
    "#fit the thing\n",
    "lr1.fit(x_train_rfe, y_train)\n",
    "\n",
    "#use the thing (make predictions)\n",
    "pred_lr1 = lr1.predict(x_train_rfe)\n",
    "pred_val_lr1 = lr1.predict(x_validate_rfe)"
   ]
  },
  {
   "cell_type": "code",
   "execution_count": 150,
   "metadata": {},
   "outputs": [
    {
     "data": {
      "text/plain": [
       "array([2.37747501, 3.44395961, 5.70068838, 2.8176286 , 3.65381279,\n",
       "       2.74337286, 3.48162557, 1.74145847, 4.68155526, 2.65943159])"
      ]
     },
     "execution_count": 150,
     "metadata": {},
     "output_type": "execute_result"
    }
   ],
   "source": [
    "pred_lr1[:10]"
   ]
  },
  {
   "cell_type": "code",
   "execution_count": 151,
   "metadata": {},
   "outputs": [],
   "source": [
    "#evaluate"
   ]
  },
  {
   "cell_type": "code",
   "execution_count": 152,
   "metadata": {},
   "outputs": [
    {
     "data": {
      "text/plain": [
       "(1.0902151104031415, 0.43554873651603543)"
      ]
     },
     "execution_count": 152,
     "metadata": {},
     "output_type": "execute_result"
    }
   ],
   "source": [
    "#train\n",
    "metrics_reg(y_train, pred_lr1)"
   ]
  },
  {
   "cell_type": "code",
   "execution_count": 153,
   "metadata": {},
   "outputs": [
    {
     "data": {
      "text/plain": [
       "(1.0027134210017212, 0.5632480653696952)"
      ]
     },
     "execution_count": 153,
     "metadata": {},
     "output_type": "execute_result"
    }
   ],
   "source": [
    "#validate\n",
    "rmse, r2 = metrics_reg(y_validate, pred_val_lr1)\n",
    "rmse, r2"
   ]
  },
  {
   "cell_type": "code",
   "execution_count": 154,
   "metadata": {},
   "outputs": [
    {
     "data": {
      "text/html": [
       "<div>\n",
       "<style scoped>\n",
       "    .dataframe tbody tr th:only-of-type {\n",
       "        vertical-align: middle;\n",
       "    }\n",
       "\n",
       "    .dataframe tbody tr th {\n",
       "        vertical-align: top;\n",
       "    }\n",
       "\n",
       "    .dataframe thead th {\n",
       "        text-align: right;\n",
       "    }\n",
       "</style>\n",
       "<table border=\"1\" class=\"dataframe\">\n",
       "  <thead>\n",
       "    <tr style=\"text-align: right;\">\n",
       "      <th></th>\n",
       "      <th>model</th>\n",
       "      <th>rmse</th>\n",
       "      <th>r2</th>\n",
       "    </tr>\n",
       "  </thead>\n",
       "  <tbody>\n",
       "    <tr>\n",
       "      <th>0</th>\n",
       "      <td>baseline</td>\n",
       "      <td>1.451105</td>\n",
       "      <td>2.220446e-16</td>\n",
       "    </tr>\n",
       "    <tr>\n",
       "      <th>1</th>\n",
       "      <td>ols_1</td>\n",
       "      <td>1.002713</td>\n",
       "      <td>5.632481e-01</td>\n",
       "    </tr>\n",
       "  </tbody>\n",
       "</table>\n",
       "</div>"
      ],
      "text/plain": [
       "      model      rmse            r2\n",
       "0  baseline  1.451105  2.220446e-16\n",
       "1     ols_1  1.002713  5.632481e-01"
      ]
     },
     "execution_count": 154,
     "metadata": {},
     "output_type": "execute_result"
    }
   ],
   "source": [
    "#add to my metrics df\n",
    "metrics_df.loc[1] = ['ols_1', rmse, r2]\n",
    "metrics_df"
   ]
  },
  {
   "cell_type": "code",
   "execution_count": 155,
   "metadata": {},
   "outputs": [],
   "source": [
    "#multipule Regression "
   ]
  },
  {
   "cell_type": "code",
   "execution_count": 156,
   "metadata": {},
   "outputs": [],
   "source": [
    "#make it\n",
    "lr2 = LinearRegression()\n",
    "\n",
    "#fit it on our RFE features\n",
    "lr2.fit(x_train, y_train)\n",
    "\n",
    "#use it (make predictions)\n",
    "pred_lr2 = lr2.predict(x_train)\n",
    "\n",
    "#use it on validate\n",
    "pred_val_lr2 = lr2.predict(x_validate)"
   ]
  },
  {
   "cell_type": "code",
   "execution_count": 157,
   "metadata": {},
   "outputs": [
    {
     "data": {
      "text/plain": [
       "array([2.30602394, 3.2033402 , 5.51676009, 2.97436062, 3.25553438,\n",
       "       2.70208873, 3.26503331, 1.70218038, 4.98373911, 2.66310318])"
      ]
     },
     "execution_count": 157,
     "metadata": {},
     "output_type": "execute_result"
    }
   ],
   "source": [
    "pred_lr2[:10]"
   ]
  },
  {
   "cell_type": "code",
   "execution_count": 158,
   "metadata": {},
   "outputs": [],
   "source": [
    "#evaluate"
   ]
  },
  {
   "cell_type": "code",
   "execution_count": 159,
   "metadata": {},
   "outputs": [
    {
     "data": {
      "text/plain": [
       "(1.0494223514205152, 0.4769988122083727)"
      ]
     },
     "execution_count": 159,
     "metadata": {},
     "output_type": "execute_result"
    }
   ],
   "source": [
    "#train\n",
    "metrics_reg(y_train, pred_lr2)"
   ]
  },
  {
   "cell_type": "code",
   "execution_count": 160,
   "metadata": {},
   "outputs": [
    {
     "data": {
      "text/plain": [
       "(1.0678997212158647, 0.504615826198155)"
      ]
     },
     "execution_count": 160,
     "metadata": {},
     "output_type": "execute_result"
    }
   ],
   "source": [
    "#validate\n",
    "rmse, r2 = metrics_reg(y_validate, pred_val_lr2)\n",
    "rmse, r2"
   ]
  },
  {
   "cell_type": "code",
   "execution_count": 161,
   "metadata": {},
   "outputs": [
    {
     "data": {
      "text/html": [
       "<div>\n",
       "<style scoped>\n",
       "    .dataframe tbody tr th:only-of-type {\n",
       "        vertical-align: middle;\n",
       "    }\n",
       "\n",
       "    .dataframe tbody tr th {\n",
       "        vertical-align: top;\n",
       "    }\n",
       "\n",
       "    .dataframe thead th {\n",
       "        text-align: right;\n",
       "    }\n",
       "</style>\n",
       "<table border=\"1\" class=\"dataframe\">\n",
       "  <thead>\n",
       "    <tr style=\"text-align: right;\">\n",
       "      <th></th>\n",
       "      <th>model</th>\n",
       "      <th>rmse</th>\n",
       "      <th>r2</th>\n",
       "    </tr>\n",
       "  </thead>\n",
       "  <tbody>\n",
       "    <tr>\n",
       "      <th>0</th>\n",
       "      <td>baseline</td>\n",
       "      <td>1.451105</td>\n",
       "      <td>2.220446e-16</td>\n",
       "    </tr>\n",
       "    <tr>\n",
       "      <th>1</th>\n",
       "      <td>ols_1</td>\n",
       "      <td>1.002713</td>\n",
       "      <td>5.632481e-01</td>\n",
       "    </tr>\n",
       "    <tr>\n",
       "      <th>2</th>\n",
       "      <td>ols</td>\n",
       "      <td>1.067900</td>\n",
       "      <td>5.046158e-01</td>\n",
       "    </tr>\n",
       "  </tbody>\n",
       "</table>\n",
       "</div>"
      ],
      "text/plain": [
       "      model      rmse            r2\n",
       "0  baseline  1.451105  2.220446e-16\n",
       "1     ols_1  1.002713  5.632481e-01\n",
       "2       ols  1.067900  5.046158e-01"
      ]
     },
     "execution_count": 161,
     "metadata": {},
     "output_type": "execute_result"
    }
   ],
   "source": [
    "metrics_df.loc[2] = ['ols', rmse, r2]\n",
    "metrics_df"
   ]
  },
  {
   "cell_type": "code",
   "execution_count": 162,
   "metadata": {},
   "outputs": [],
   "source": [
    "#LassoLars"
   ]
  },
  {
   "cell_type": "code",
   "execution_count": 163,
   "metadata": {},
   "outputs": [],
   "source": [
    "lars = LassoLars(alpha=1)\n",
    "\n",
    "#fit it\n",
    "lars.fit(x_train, y_train)\n",
    "\n",
    "#use it\n",
    "pred_lars = lars.predict(x_train)\n",
    "pred_val_lars = lars.predict(x_validate)\n"
   ]
  },
  {
   "cell_type": "code",
   "execution_count": 164,
   "metadata": {},
   "outputs": [
    {
     "data": {
      "text/plain": [
       "array([2.98109589, 2.98109589, 2.98109589, 2.98109589, 2.98109589,\n",
       "       2.98109589, 2.98109589, 2.98109589, 2.98109589, 2.98109589,\n",
       "       2.98109589, 2.98109589, 2.98109589, 2.98109589, 2.98109589,\n",
       "       2.98109589, 2.98109589, 2.98109589, 2.98109589, 2.98109589,\n",
       "       2.98109589, 2.98109589, 2.98109589, 2.98109589, 2.98109589,\n",
       "       2.98109589, 2.98109589, 2.98109589, 2.98109589, 2.98109589,\n",
       "       2.98109589, 2.98109589, 2.98109589, 2.98109589, 2.98109589,\n",
       "       2.98109589, 2.98109589, 2.98109589, 2.98109589, 2.98109589,\n",
       "       2.98109589, 2.98109589, 2.98109589, 2.98109589, 2.98109589,\n",
       "       2.98109589, 2.98109589, 2.98109589, 2.98109589, 2.98109589,\n",
       "       2.98109589, 2.98109589, 2.98109589, 2.98109589, 2.98109589,\n",
       "       2.98109589, 2.98109589, 2.98109589, 2.98109589, 2.98109589,\n",
       "       2.98109589, 2.98109589, 2.98109589, 2.98109589, 2.98109589,\n",
       "       2.98109589, 2.98109589, 2.98109589, 2.98109589, 2.98109589,\n",
       "       2.98109589, 2.98109589, 2.98109589, 2.98109589, 2.98109589,\n",
       "       2.98109589, 2.98109589, 2.98109589, 2.98109589, 2.98109589,\n",
       "       2.98109589, 2.98109589, 2.98109589, 2.98109589, 2.98109589,\n",
       "       2.98109589, 2.98109589, 2.98109589, 2.98109589, 2.98109589,\n",
       "       2.98109589, 2.98109589, 2.98109589, 2.98109589, 2.98109589,\n",
       "       2.98109589, 2.98109589, 2.98109589, 2.98109589, 2.98109589,\n",
       "       2.98109589, 2.98109589, 2.98109589, 2.98109589, 2.98109589,\n",
       "       2.98109589, 2.98109589, 2.98109589, 2.98109589, 2.98109589,\n",
       "       2.98109589, 2.98109589, 2.98109589, 2.98109589, 2.98109589,\n",
       "       2.98109589, 2.98109589, 2.98109589, 2.98109589, 2.98109589,\n",
       "       2.98109589, 2.98109589, 2.98109589, 2.98109589, 2.98109589,\n",
       "       2.98109589, 2.98109589, 2.98109589, 2.98109589, 2.98109589,\n",
       "       2.98109589, 2.98109589, 2.98109589, 2.98109589, 2.98109589,\n",
       "       2.98109589, 2.98109589, 2.98109589, 2.98109589, 2.98109589,\n",
       "       2.98109589, 2.98109589, 2.98109589, 2.98109589, 2.98109589,\n",
       "       2.98109589])"
      ]
     },
     "execution_count": 164,
     "metadata": {},
     "output_type": "execute_result"
    }
   ],
   "source": [
    "pred_lars"
   ]
  },
  {
   "cell_type": "code",
   "execution_count": 165,
   "metadata": {},
   "outputs": [
    {
     "data": {
      "text/plain": [
       "(1.451105446961829, 0.0)"
      ]
     },
     "execution_count": 165,
     "metadata": {},
     "output_type": "execute_result"
    }
   ],
   "source": [
    "metrics_reg(y_train, pred_lars)"
   ]
  },
  {
   "cell_type": "code",
   "execution_count": 166,
   "metadata": {},
   "outputs": [
    {
     "data": {
      "text/plain": [
       "(1.5258133479910245, -0.011309300681123569)"
      ]
     },
     "execution_count": 166,
     "metadata": {},
     "output_type": "execute_result"
    }
   ],
   "source": [
    "#validate\n",
    "rmse, r2 = metrics_reg(y_validate, pred_val_lars)\n",
    "rmse, r2"
   ]
  },
  {
   "cell_type": "code",
   "execution_count": 167,
   "metadata": {},
   "outputs": [
    {
     "data": {
      "text/html": [
       "<div>\n",
       "<style scoped>\n",
       "    .dataframe tbody tr th:only-of-type {\n",
       "        vertical-align: middle;\n",
       "    }\n",
       "\n",
       "    .dataframe tbody tr th {\n",
       "        vertical-align: top;\n",
       "    }\n",
       "\n",
       "    .dataframe thead th {\n",
       "        text-align: right;\n",
       "    }\n",
       "</style>\n",
       "<table border=\"1\" class=\"dataframe\">\n",
       "  <thead>\n",
       "    <tr style=\"text-align: right;\">\n",
       "      <th></th>\n",
       "      <th>model</th>\n",
       "      <th>rmse</th>\n",
       "      <th>r2</th>\n",
       "    </tr>\n",
       "  </thead>\n",
       "  <tbody>\n",
       "    <tr>\n",
       "      <th>0</th>\n",
       "      <td>baseline</td>\n",
       "      <td>1.451105</td>\n",
       "      <td>2.220446e-16</td>\n",
       "    </tr>\n",
       "    <tr>\n",
       "      <th>1</th>\n",
       "      <td>ols_1</td>\n",
       "      <td>1.002713</td>\n",
       "      <td>5.632481e-01</td>\n",
       "    </tr>\n",
       "    <tr>\n",
       "      <th>2</th>\n",
       "      <td>ols</td>\n",
       "      <td>1.067900</td>\n",
       "      <td>5.046158e-01</td>\n",
       "    </tr>\n",
       "    <tr>\n",
       "      <th>3</th>\n",
       "      <td>lars</td>\n",
       "      <td>1.525813</td>\n",
       "      <td>-1.130930e-02</td>\n",
       "    </tr>\n",
       "  </tbody>\n",
       "</table>\n",
       "</div>"
      ],
      "text/plain": [
       "      model      rmse            r2\n",
       "0  baseline  1.451105  2.220446e-16\n",
       "1     ols_1  1.002713  5.632481e-01\n",
       "2       ols  1.067900  5.046158e-01\n",
       "3      lars  1.525813 -1.130930e-02"
      ]
     },
     "execution_count": 167,
     "metadata": {},
     "output_type": "execute_result"
    }
   ],
   "source": [
    "#add to my metrics df\n",
    "metrics_df.loc[3] = ['lars', rmse, r2]\n",
    "metrics_df"
   ]
  },
  {
   "cell_type": "code",
   "execution_count": 168,
   "metadata": {},
   "outputs": [],
   "source": [
    "# make the polynomial features to get a new set of features\n",
    "#at degree = 1 its just OLS\n",
    "pf = PolynomialFeatures(degree=2)\n",
    "\n",
    "# fit and transform X_train_scaled\n",
    "x_train_degree2 = pf.fit_transform(x_train)\n",
    "\n",
    "# transform X_validate_scaled & X_test_scaled\n",
    "x_validate_degree2 = pf.transform(x_validate)\n",
    "x_test_degree2 = pf.transform(x_test)"
   ]
  },
  {
   "cell_type": "code",
   "execution_count": 169,
   "metadata": {},
   "outputs": [],
   "source": [
    "#make it\n",
    "pr = LinearRegression()\n",
    "\n",
    "#fit it\n",
    "pr.fit(x_train_degree2, y_train)\n",
    "\n",
    "#use it\n",
    "pred_pr = pr.predict(x_train_degree2)\n",
    "pred_val_pr = pr.predict(x_validate_degree2)\n",
    "\n"
   ]
  },
  {
   "cell_type": "code",
   "execution_count": 170,
   "metadata": {},
   "outputs": [],
   "source": [
    "#evaluating poly regs"
   ]
  },
  {
   "cell_type": "code",
   "execution_count": 171,
   "metadata": {},
   "outputs": [
    {
     "data": {
      "text/plain": [
       "(0.7819506611940462, 0.7096239736790078)"
      ]
     },
     "execution_count": 171,
     "metadata": {},
     "output_type": "execute_result"
    }
   ],
   "source": [
    "#train\n",
    "metrics_reg(y_train, pred_pr)"
   ]
  },
  {
   "cell_type": "code",
   "execution_count": 172,
   "metadata": {},
   "outputs": [
    {
     "data": {
      "text/plain": [
       "(1.938497110566104, -0.6323432874744135)"
      ]
     },
     "execution_count": 172,
     "metadata": {},
     "output_type": "execute_result"
    }
   ],
   "source": [
    "#validate\n",
    "rmse, r2 = metrics_reg(y_validate, pred_val_pr)\n",
    "rmse, r2"
   ]
  },
  {
   "cell_type": "code",
   "execution_count": 173,
   "metadata": {},
   "outputs": [
    {
     "data": {
      "text/html": [
       "<div>\n",
       "<style scoped>\n",
       "    .dataframe tbody tr th:only-of-type {\n",
       "        vertical-align: middle;\n",
       "    }\n",
       "\n",
       "    .dataframe tbody tr th {\n",
       "        vertical-align: top;\n",
       "    }\n",
       "\n",
       "    .dataframe thead th {\n",
       "        text-align: right;\n",
       "    }\n",
       "</style>\n",
       "<table border=\"1\" class=\"dataframe\">\n",
       "  <thead>\n",
       "    <tr style=\"text-align: right;\">\n",
       "      <th></th>\n",
       "      <th>model</th>\n",
       "      <th>rmse</th>\n",
       "      <th>r2</th>\n",
       "    </tr>\n",
       "  </thead>\n",
       "  <tbody>\n",
       "    <tr>\n",
       "      <th>0</th>\n",
       "      <td>baseline</td>\n",
       "      <td>1.451105</td>\n",
       "      <td>2.220446e-16</td>\n",
       "    </tr>\n",
       "    <tr>\n",
       "      <th>1</th>\n",
       "      <td>ols_1</td>\n",
       "      <td>1.002713</td>\n",
       "      <td>5.632481e-01</td>\n",
       "    </tr>\n",
       "    <tr>\n",
       "      <th>2</th>\n",
       "      <td>ols</td>\n",
       "      <td>1.067900</td>\n",
       "      <td>5.046158e-01</td>\n",
       "    </tr>\n",
       "    <tr>\n",
       "      <th>3</th>\n",
       "      <td>lars</td>\n",
       "      <td>1.525813</td>\n",
       "      <td>-1.130930e-02</td>\n",
       "    </tr>\n",
       "    <tr>\n",
       "      <th>4</th>\n",
       "      <td>poly_2</td>\n",
       "      <td>1.938497</td>\n",
       "      <td>-6.323433e-01</td>\n",
       "    </tr>\n",
       "  </tbody>\n",
       "</table>\n",
       "</div>"
      ],
      "text/plain": [
       "      model      rmse            r2\n",
       "0  baseline  1.451105  2.220446e-16\n",
       "1     ols_1  1.002713  5.632481e-01\n",
       "2       ols  1.067900  5.046158e-01\n",
       "3      lars  1.525813 -1.130930e-02\n",
       "4    poly_2  1.938497 -6.323433e-01"
      ]
     },
     "execution_count": 173,
     "metadata": {},
     "output_type": "execute_result"
    }
   ],
   "source": [
    "#add to my metrics df\n",
    "metrics_df.loc[4] = ['poly_2', rmse, r2]\n",
    "metrics_df"
   ]
  },
  {
   "cell_type": "code",
   "execution_count": 174,
   "metadata": {},
   "outputs": [],
   "source": [
    "#Generalized Linear Model (GLM)"
   ]
  },
  {
   "cell_type": "code",
   "execution_count": 202,
   "metadata": {},
   "outputs": [],
   "source": [
    "#make it\n",
    "glm = TweedieRegressor(power=1, alpha=2)\n",
    "\n",
    "#fit it\n",
    "glm.fit(x_train, y_train)\n",
    "\n",
    "#use it\n",
    "pred_glm = glm.predict(x_train)\n",
    "pred_val_glm = glm.predict(x_validate)"
   ]
  },
  {
   "cell_type": "code",
   "execution_count": 203,
   "metadata": {},
   "outputs": [
    {
     "data": {
      "text/plain": [
       "(1.0865418971805312, 0.43934588994409995)"
      ]
     },
     "execution_count": 203,
     "metadata": {},
     "output_type": "execute_result"
    }
   ],
   "source": [
    "#train\n",
    "metrics_reg(y_train, pred_glm)\n"
   ]
  },
  {
   "cell_type": "code",
   "execution_count": 204,
   "metadata": {},
   "outputs": [
    {
     "data": {
      "text/plain": [
       "(0.9869739326711354, 0.5768517523779342)"
      ]
     },
     "execution_count": 204,
     "metadata": {},
     "output_type": "execute_result"
    }
   ],
   "source": [
    "#validate\n",
    "rmse, r2 = metrics_reg(y_validate, pred_val_glm)\n",
    "rmse, r2"
   ]
  },
  {
   "cell_type": "code",
   "execution_count": 205,
   "metadata": {},
   "outputs": [
    {
     "data": {
      "text/html": [
       "<div>\n",
       "<style scoped>\n",
       "    .dataframe tbody tr th:only-of-type {\n",
       "        vertical-align: middle;\n",
       "    }\n",
       "\n",
       "    .dataframe tbody tr th {\n",
       "        vertical-align: top;\n",
       "    }\n",
       "\n",
       "    .dataframe thead th {\n",
       "        text-align: right;\n",
       "    }\n",
       "</style>\n",
       "<table border=\"1\" class=\"dataframe\">\n",
       "  <thead>\n",
       "    <tr style=\"text-align: right;\">\n",
       "      <th></th>\n",
       "      <th>model</th>\n",
       "      <th>rmse</th>\n",
       "      <th>r2</th>\n",
       "    </tr>\n",
       "  </thead>\n",
       "  <tbody>\n",
       "    <tr>\n",
       "      <th>0</th>\n",
       "      <td>baseline</td>\n",
       "      <td>1.451105</td>\n",
       "      <td>2.220446e-16</td>\n",
       "    </tr>\n",
       "    <tr>\n",
       "      <th>1</th>\n",
       "      <td>ols_1</td>\n",
       "      <td>1.002713</td>\n",
       "      <td>5.632481e-01</td>\n",
       "    </tr>\n",
       "    <tr>\n",
       "      <th>2</th>\n",
       "      <td>ols</td>\n",
       "      <td>1.067900</td>\n",
       "      <td>5.046158e-01</td>\n",
       "    </tr>\n",
       "    <tr>\n",
       "      <th>3</th>\n",
       "      <td>lars</td>\n",
       "      <td>1.525813</td>\n",
       "      <td>-1.130930e-02</td>\n",
       "    </tr>\n",
       "    <tr>\n",
       "      <th>4</th>\n",
       "      <td>poly_2</td>\n",
       "      <td>1.938497</td>\n",
       "      <td>-6.323433e-01</td>\n",
       "    </tr>\n",
       "    <tr>\n",
       "      <th>5</th>\n",
       "      <td>glm</td>\n",
       "      <td>0.986974</td>\n",
       "      <td>5.768518e-01</td>\n",
       "    </tr>\n",
       "  </tbody>\n",
       "</table>\n",
       "</div>"
      ],
      "text/plain": [
       "      model      rmse            r2\n",
       "0  baseline  1.451105  2.220446e-16\n",
       "1     ols_1  1.002713  5.632481e-01\n",
       "2       ols  1.067900  5.046158e-01\n",
       "3      lars  1.525813 -1.130930e-02\n",
       "4    poly_2  1.938497 -6.323433e-01\n",
       "5       glm  0.986974  5.768518e-01"
      ]
     },
     "execution_count": 205,
     "metadata": {},
     "output_type": "execute_result"
    }
   ],
   "source": [
    "metrics_df.loc[5] = ['glm',rmse,r2]\n",
    "metrics_df"
   ]
  },
  {
   "cell_type": "code",
   "execution_count": 206,
   "metadata": {},
   "outputs": [
    {
     "data": {
      "text/plain": [
       "array([4.99163659, 3.01829796, 4.52546301, 2.22301892, 2.97398613,\n",
       "       4.17713925, 2.85946558, 2.56418722, 3.48257227, 2.74622997,\n",
       "       2.24741786, 2.7189769 , 2.63703125, 2.41938131, 2.47605057,\n",
       "       2.98525043, 2.23091662, 2.73494812, 6.04301105, 2.62271411,\n",
       "       3.64179313, 2.48481561, 2.27337299, 2.93566079, 2.33767889,\n",
       "       2.7825825 , 5.98022371, 4.96027072, 2.60361432, 2.36741804,\n",
       "       3.80986984, 2.28838032, 3.86744086, 2.7722206 , 3.21938176,\n",
       "       2.12645343, 2.46920766, 3.7513731 , 3.73111199, 2.4279469 ,\n",
       "       2.88084092, 2.46812696, 2.81707992, 2.58612048, 5.54992265,\n",
       "       3.12025901, 2.21272358, 3.19451134, 2.01082368])"
      ]
     },
     "execution_count": 206,
     "metadata": {},
     "output_type": "execute_result"
    }
   ],
   "source": [
    "#using ols_1 test\n",
    "pred_test =glm.predict(x_test)\n",
    "pred_test"
   ]
  },
  {
   "cell_type": "code",
   "execution_count": 207,
   "metadata": {},
   "outputs": [
    {
     "data": {
      "text/plain": [
       "(0.8360576164612488, 0.21249572358091917)"
      ]
     },
     "execution_count": 207,
     "metadata": {},
     "output_type": "execute_result"
    }
   ],
   "source": [
    "rmse, r2 = metrics_reg(y_test, pred_test)\n",
    "rmse, r2"
   ]
  },
  {
   "cell_type": "code",
   "execution_count": 208,
   "metadata": {},
   "outputs": [],
   "source": [
    "#actual v. predicted "
   ]
  },
  {
   "cell_type": "code",
   "execution_count": 191,
   "metadata": {},
   "outputs": [
    {
     "data": {
      "image/png": "[encoded data removed]",
      "text/plain": [
       "<Figure size 432x288 with 1 Axes>"
      ]
     },
     "metadata": {
      "needs_background": "light"
     },
     "output_type": "display_data"
    }
   ],
   "source": [
    "plt.scatter(pred_lr1, y_train, label=\"linea regression one feature\")\n",
    "plt.scatter(pred_lr2, y_train, label='linear regression')\n",
    "plt.scatter(pred_pr, y_train, label='polynominal 2deg')\n",
    "plt.scatter(pred_glm, y_train, label='glm')\n",
    "plt.plot(y_train, y_train, label='_nolegend_', color='grey')\n",
    "\n",
    "plt.axhline(baseline, ls=':', color='grey')\n",
    "plt.annotate(\"Baseline\", (10, 13))\n",
    "\n",
    "plt.title(\"Where are predictions more extreme? More modest?\")\n",
    "plt.ylabel(\"Actual Tip\")\n",
    "plt.xlabel(\"Predicted Tip\")\n",
    "plt.legend()\n",
    "\n",
    "plt.show()"
   ]
  },
  {
   "cell_type": "code",
   "execution_count": null,
   "metadata": {},
   "outputs": [],
   "source": [
    "#plotting the residuals"
   ]
  },
  {
   "cell_type": "code",
   "execution_count": 209,
   "metadata": {},
   "outputs": [
    {
     "data": {
      "image/png": "[encoded data removed]",
      "text/plain": [
       "<Figure size 432x288 with 1 Axes>"
      ]
     },
     "metadata": {
      "needs_background": "light"
     },
     "output_type": "display_data"
    }
   ],
   "source": [
    "plt.axhline(label=\"No Error\")\n",
    "\n",
    "plt.scatter(y_train, pred_lr1 - y_train, alpha=.5, color=\"blue\", label=\"Linear Regression One Feature\")\n",
    "plt.scatter(y_train, pred_lr2 - y_train, alpha=.5, color=\"red\", label=\"LinearRegression\")\n",
    "plt.scatter(y_train, pred_glm - y_train, alpha=.5, color=\"yellow\", label=\"TweedieRegressor\")\n",
    "plt.scatter(y_train, pred_pr - y_train, alpha=.5, color=\"green\", label=\"Polynomial 2deg \")\n",
    "\n",
    "plt.legend()\n",
    "plt.title(\"Do the size of errors change as the actual value changes?\")\n",
    "plt.xlabel(\"Actual Tip\")\n",
    "plt.ylabel(\"Residual: Predicted Tip\")\n",
    "\n",
    "plt.show()"
   ]
  }
 ],
 "metadata": {
  "kernelspec": {
   "display_name": "base",
   "language": "python",
   "name": "python3"
  },
  "language_info": {
   "codemirror_mode": {
    "name": "ipython",
    "version": 3
   },
   "file_extension": ".py",
   "mimetype": "text/x-python",
   "name": "python",
   "nbconvert_exporter": "python",
   "pygments_lexer": "ipython3",
   "version": "3.8.8"
  },
  "orig_nbformat": 4
 },
 "nbformat": 4,
 "nbformat_minor": 2
}
